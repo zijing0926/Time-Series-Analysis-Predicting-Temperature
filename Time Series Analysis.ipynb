{
 "cells": [
  {
   "cell_type": "markdown",
   "metadata": {
    "slideshow": null
   },
   "source": [
    "# Time Series Data: Predict Temperature"
   ]
  },
  {
   "cell_type": "markdown",
   "metadata": {
    "slideshow": null
   },
   "source": [
    "The columns of the data correspond to the\n",
    "  - year\n",
    "  - month\n",
    "  - day\n",
    "  - hour\n",
    "  - temp\n",
    "  - dew_temp\n",
    "  - pressure\n",
    "  - wind_angle\n",
    "  - wind_speed\n",
    "  - sky_code\n",
    "  - rain_hour\n",
    "  - rain_6hour\n",
    "  - city\n"
   ]
  },
  {
   "cell_type": "code",
   "execution_count": 4,
   "metadata": {
    "collapsed": true,
    "slideshow": null
   },
   "outputs": [],
   "source": [
    "def load_stream(stream):\n",
    "    return pd.read_csv(stream, sep=' +', engine='python',\n",
    "                         names=['year', 'month', 'day', 'hour', 'temp',\n",
    "                                'dew_temp', 'pressure', 'wind_angle', \n",
    "                                'wind_speed', 'sky_code', 'rain_hour',\n",
    "                                'rain_6hour', 'city'])"
   ]
  },
  {
   "cell_type": "code",
   "execution_count": 25,
   "metadata": {
    "collapsed": true,
    "slideshow": null
   },
   "outputs": [],
   "source": [
    "df = load_stream(gzip.open('train.txt.gz', 'rt'))"
   ]
  },
  {
   "cell_type": "code",
   "execution_count": 26,
   "metadata": {},
   "outputs": [
    {
     "data": {
      "text/plain": [
       "(525869, 13)"
      ]
     },
     "execution_count": 26,
     "metadata": {},
     "output_type": "execute_result"
    }
   ],
   "source": [
    "df.shape"
   ]
  },
  {
   "cell_type": "code",
   "execution_count": 27,
   "metadata": {
    "slideshow": null
   },
   "outputs": [
    {
     "data": {
      "text/html": [
       "<div>\n",
       "<style scoped>\n",
       "    .dataframe tbody tr th:only-of-type {\n",
       "        vertical-align: middle;\n",
       "    }\n",
       "\n",
       "    .dataframe tbody tr th {\n",
       "        vertical-align: top;\n",
       "    }\n",
       "\n",
       "    .dataframe thead th {\n",
       "        text-align: right;\n",
       "    }\n",
       "</style>\n",
       "<table border=\"1\" class=\"dataframe\">\n",
       "  <thead>\n",
       "    <tr style=\"text-align: right;\">\n",
       "      <th></th>\n",
       "      <th>year</th>\n",
       "      <th>month</th>\n",
       "      <th>day</th>\n",
       "      <th>hour</th>\n",
       "      <th>temp</th>\n",
       "      <th>dew_temp</th>\n",
       "      <th>pressure</th>\n",
       "      <th>wind_angle</th>\n",
       "      <th>wind_speed</th>\n",
       "      <th>sky_code</th>\n",
       "      <th>rain_hour</th>\n",
       "      <th>rain_6hour</th>\n",
       "      <th>city</th>\n",
       "    </tr>\n",
       "    <tr>\n",
       "      <th>date</th>\n",
       "      <th></th>\n",
       "      <th></th>\n",
       "      <th></th>\n",
       "      <th></th>\n",
       "      <th></th>\n",
       "      <th></th>\n",
       "      <th></th>\n",
       "      <th></th>\n",
       "      <th></th>\n",
       "      <th></th>\n",
       "      <th></th>\n",
       "      <th></th>\n",
       "      <th></th>\n",
       "    </tr>\n",
       "  </thead>\n",
       "  <tbody>\n",
       "    <tr>\n",
       "      <th>2000-01-01 00:00:00</th>\n",
       "      <td>2000</td>\n",
       "      <td>1</td>\n",
       "      <td>1</td>\n",
       "      <td>0</td>\n",
       "      <td>-11</td>\n",
       "      <td>-72</td>\n",
       "      <td>10197</td>\n",
       "      <td>220</td>\n",
       "      <td>26</td>\n",
       "      <td>4</td>\n",
       "      <td>0</td>\n",
       "      <td>0</td>\n",
       "      <td>bos</td>\n",
       "    </tr>\n",
       "    <tr>\n",
       "      <th>2000-01-01 01:00:00</th>\n",
       "      <td>2000</td>\n",
       "      <td>1</td>\n",
       "      <td>1</td>\n",
       "      <td>1</td>\n",
       "      <td>-6</td>\n",
       "      <td>-78</td>\n",
       "      <td>10206</td>\n",
       "      <td>230</td>\n",
       "      <td>26</td>\n",
       "      <td>2</td>\n",
       "      <td>0</td>\n",
       "      <td>-9999</td>\n",
       "      <td>bos</td>\n",
       "    </tr>\n",
       "    <tr>\n",
       "      <th>2000-01-01 02:00:00</th>\n",
       "      <td>2000</td>\n",
       "      <td>1</td>\n",
       "      <td>1</td>\n",
       "      <td>2</td>\n",
       "      <td>-17</td>\n",
       "      <td>-78</td>\n",
       "      <td>10211</td>\n",
       "      <td>230</td>\n",
       "      <td>36</td>\n",
       "      <td>0</td>\n",
       "      <td>0</td>\n",
       "      <td>-9999</td>\n",
       "      <td>bos</td>\n",
       "    </tr>\n",
       "    <tr>\n",
       "      <th>2000-01-01 03:00:00</th>\n",
       "      <td>2000</td>\n",
       "      <td>1</td>\n",
       "      <td>1</td>\n",
       "      <td>3</td>\n",
       "      <td>-17</td>\n",
       "      <td>-78</td>\n",
       "      <td>10214</td>\n",
       "      <td>230</td>\n",
       "      <td>36</td>\n",
       "      <td>0</td>\n",
       "      <td>0</td>\n",
       "      <td>-9999</td>\n",
       "      <td>bos</td>\n",
       "    </tr>\n",
       "    <tr>\n",
       "      <th>2000-01-01 04:00:00</th>\n",
       "      <td>2000</td>\n",
       "      <td>1</td>\n",
       "      <td>1</td>\n",
       "      <td>4</td>\n",
       "      <td>-17</td>\n",
       "      <td>-78</td>\n",
       "      <td>10216</td>\n",
       "      <td>230</td>\n",
       "      <td>36</td>\n",
       "      <td>0</td>\n",
       "      <td>0</td>\n",
       "      <td>-9999</td>\n",
       "      <td>bos</td>\n",
       "    </tr>\n",
       "  </tbody>\n",
       "</table>\n",
       "</div>"
      ],
      "text/plain": [
       "                     year  month  day  hour  temp  dew_temp  pressure  \\\n",
       "date                                                                    \n",
       "2000-01-01 00:00:00  2000      1    1     0   -11       -72     10197   \n",
       "2000-01-01 01:00:00  2000      1    1     1    -6       -78     10206   \n",
       "2000-01-01 02:00:00  2000      1    1     2   -17       -78     10211   \n",
       "2000-01-01 03:00:00  2000      1    1     3   -17       -78     10214   \n",
       "2000-01-01 04:00:00  2000      1    1     4   -17       -78     10216   \n",
       "\n",
       "                     wind_angle  wind_speed  sky_code  rain_hour  rain_6hour  \\\n",
       "date                                                                           \n",
       "2000-01-01 00:00:00         220          26         4          0           0   \n",
       "2000-01-01 01:00:00         230          26         2          0       -9999   \n",
       "2000-01-01 02:00:00         230          36         0          0       -9999   \n",
       "2000-01-01 03:00:00         230          36         0          0       -9999   \n",
       "2000-01-01 04:00:00         230          36         0          0       -9999   \n",
       "\n",
       "                    city  \n",
       "date                      \n",
       "2000-01-01 00:00:00  bos  \n",
       "2000-01-01 01:00:00  bos  \n",
       "2000-01-01 02:00:00  bos  \n",
       "2000-01-01 03:00:00  bos  \n",
       "2000-01-01 04:00:00  bos  "
      ]
     },
     "execution_count": 27,
     "metadata": {},
     "output_type": "execute_result"
    }
   ],
   "source": [
    "df['date']=pd.to_datetime(df[[\"year\", \"month\", \"day\",'hour']])\n",
    "df=df.set_index('date')\n",
    "df.head()"
   ]
  },
  {
   "cell_type": "code",
   "execution_count": 28,
   "metadata": {
    "slideshow": null
   },
   "outputs": [
    {
     "data": {
      "text/html": [
       "<div>\n",
       "<style scoped>\n",
       "    .dataframe tbody tr th:only-of-type {\n",
       "        vertical-align: middle;\n",
       "    }\n",
       "\n",
       "    .dataframe tbody tr th {\n",
       "        vertical-align: top;\n",
       "    }\n",
       "\n",
       "    .dataframe thead th {\n",
       "        text-align: right;\n",
       "    }\n",
       "</style>\n",
       "<table border=\"1\" class=\"dataframe\">\n",
       "  <thead>\n",
       "    <tr style=\"text-align: right;\">\n",
       "      <th></th>\n",
       "      <th>year</th>\n",
       "      <th>month</th>\n",
       "      <th>day</th>\n",
       "      <th>hour</th>\n",
       "      <th>temp</th>\n",
       "      <th>dew_temp</th>\n",
       "      <th>pressure</th>\n",
       "      <th>wind_angle</th>\n",
       "      <th>wind_speed</th>\n",
       "      <th>sky_code</th>\n",
       "      <th>rain_hour</th>\n",
       "      <th>rain_6hour</th>\n",
       "      <th>city</th>\n",
       "      <th>julian</th>\n",
       "    </tr>\n",
       "    <tr>\n",
       "      <th>date</th>\n",
       "      <th></th>\n",
       "      <th></th>\n",
       "      <th></th>\n",
       "      <th></th>\n",
       "      <th></th>\n",
       "      <th></th>\n",
       "      <th></th>\n",
       "      <th></th>\n",
       "      <th></th>\n",
       "      <th></th>\n",
       "      <th></th>\n",
       "      <th></th>\n",
       "      <th></th>\n",
       "      <th></th>\n",
       "    </tr>\n",
       "  </thead>\n",
       "  <tbody>\n",
       "    <tr>\n",
       "      <th>2000-01-01 00:00:00</th>\n",
       "      <td>2000</td>\n",
       "      <td>1</td>\n",
       "      <td>1</td>\n",
       "      <td>0</td>\n",
       "      <td>-11</td>\n",
       "      <td>-72</td>\n",
       "      <td>10197</td>\n",
       "      <td>220</td>\n",
       "      <td>26</td>\n",
       "      <td>4</td>\n",
       "      <td>0</td>\n",
       "      <td>0</td>\n",
       "      <td>bos</td>\n",
       "      <td>2.451544e+06</td>\n",
       "    </tr>\n",
       "    <tr>\n",
       "      <th>2000-01-01 01:00:00</th>\n",
       "      <td>2000</td>\n",
       "      <td>1</td>\n",
       "      <td>1</td>\n",
       "      <td>1</td>\n",
       "      <td>-6</td>\n",
       "      <td>-78</td>\n",
       "      <td>10206</td>\n",
       "      <td>230</td>\n",
       "      <td>26</td>\n",
       "      <td>2</td>\n",
       "      <td>0</td>\n",
       "      <td>-9999</td>\n",
       "      <td>bos</td>\n",
       "      <td>2.451545e+06</td>\n",
       "    </tr>\n",
       "    <tr>\n",
       "      <th>2000-01-01 02:00:00</th>\n",
       "      <td>2000</td>\n",
       "      <td>1</td>\n",
       "      <td>1</td>\n",
       "      <td>2</td>\n",
       "      <td>-17</td>\n",
       "      <td>-78</td>\n",
       "      <td>10211</td>\n",
       "      <td>230</td>\n",
       "      <td>36</td>\n",
       "      <td>0</td>\n",
       "      <td>0</td>\n",
       "      <td>-9999</td>\n",
       "      <td>bos</td>\n",
       "      <td>2.451545e+06</td>\n",
       "    </tr>\n",
       "    <tr>\n",
       "      <th>2000-01-01 03:00:00</th>\n",
       "      <td>2000</td>\n",
       "      <td>1</td>\n",
       "      <td>1</td>\n",
       "      <td>3</td>\n",
       "      <td>-17</td>\n",
       "      <td>-78</td>\n",
       "      <td>10214</td>\n",
       "      <td>230</td>\n",
       "      <td>36</td>\n",
       "      <td>0</td>\n",
       "      <td>0</td>\n",
       "      <td>-9999</td>\n",
       "      <td>bos</td>\n",
       "      <td>2.451545e+06</td>\n",
       "    </tr>\n",
       "    <tr>\n",
       "      <th>2000-01-01 04:00:00</th>\n",
       "      <td>2000</td>\n",
       "      <td>1</td>\n",
       "      <td>1</td>\n",
       "      <td>4</td>\n",
       "      <td>-17</td>\n",
       "      <td>-78</td>\n",
       "      <td>10216</td>\n",
       "      <td>230</td>\n",
       "      <td>36</td>\n",
       "      <td>0</td>\n",
       "      <td>0</td>\n",
       "      <td>-9999</td>\n",
       "      <td>bos</td>\n",
       "      <td>2.451545e+06</td>\n",
       "    </tr>\n",
       "  </tbody>\n",
       "</table>\n",
       "</div>"
      ],
      "text/plain": [
       "                     year  month  day  hour  temp  dew_temp  pressure  \\\n",
       "date                                                                    \n",
       "2000-01-01 00:00:00  2000      1    1     0   -11       -72     10197   \n",
       "2000-01-01 01:00:00  2000      1    1     1    -6       -78     10206   \n",
       "2000-01-01 02:00:00  2000      1    1     2   -17       -78     10211   \n",
       "2000-01-01 03:00:00  2000      1    1     3   -17       -78     10214   \n",
       "2000-01-01 04:00:00  2000      1    1     4   -17       -78     10216   \n",
       "\n",
       "                     wind_angle  wind_speed  sky_code  rain_hour  rain_6hour  \\\n",
       "date                                                                           \n",
       "2000-01-01 00:00:00         220          26         4          0           0   \n",
       "2000-01-01 01:00:00         230          26         2          0       -9999   \n",
       "2000-01-01 02:00:00         230          36         0          0       -9999   \n",
       "2000-01-01 03:00:00         230          36         0          0       -9999   \n",
       "2000-01-01 04:00:00         230          36         0          0       -9999   \n",
       "\n",
       "                    city        julian  \n",
       "date                                    \n",
       "2000-01-01 00:00:00  bos  2.451544e+06  \n",
       "2000-01-01 01:00:00  bos  2.451545e+06  \n",
       "2000-01-01 02:00:00  bos  2.451545e+06  \n",
       "2000-01-01 03:00:00  bos  2.451545e+06  \n",
       "2000-01-01 04:00:00  bos  2.451545e+06  "
      ]
     },
     "execution_count": 28,
     "metadata": {},
     "output_type": "execute_result"
    }
   ],
   "source": [
    "df['julian'] = df.index.to_julian_date()\n",
    "df.head()"
   ]
  },
  {
   "cell_type": "code",
   "execution_count": 29,
   "metadata": {},
   "outputs": [
    {
     "data": {
      "text/plain": [
       "(count    525869.000000\n",
       " mean        -76.307965\n",
       " std        1405.382671\n",
       " min       -9999.000000\n",
       " 25%          33.000000\n",
       " 50%         122.000000\n",
       " 75%         206.000000\n",
       " max         406.000000\n",
       " Name: temp, dtype: float64,\n",
       " count    525869.000000\n",
       " mean       -142.707722\n",
       " std        1399.640272\n",
       " min       -9999.000000\n",
       " 25%         -30.000000\n",
       " 50%          61.000000\n",
       " 75%         144.000000\n",
       " max         272.000000\n",
       " Name: dew_temp, dtype: float64)"
      ]
     },
     "execution_count": 29,
     "metadata": {},
     "output_type": "execute_result"
    }
   ],
   "source": [
    "df['temp'].describe(),df['dew_temp'].describe()"
   ]
  },
  {
   "cell_type": "code",
   "execution_count": 32,
   "metadata": {},
   "outputs": [
    {
     "data": {
      "text/plain": [
       "<matplotlib.axes._subplots.AxesSubplot at 0x7f799d4e0490>"
      ]
     },
     "execution_count": 32,
     "metadata": {},
     "output_type": "execute_result"
    },
    {
     "data": {
      "image/png": "[encoded data removed]",
      "text/plain": [
       "<Figure size 864x576 with 1 Axes>"
      ]
     },
     "metadata": {},
     "output_type": "display_data"
    }
   ],
   "source": [
    "df['temp'].plot()"
   ]
  },
  {
   "cell_type": "markdown",
   "metadata": {
    "slideshow": null
   },
   "source": [
    "The temperature is reported in tenths of a degree Celsius.  However, not all the values are valid.  Examine the data, and remove the invalid rows."
   ]
  },
  {
   "cell_type": "code",
   "execution_count": 61,
   "metadata": {
    "slideshow": null
   },
   "outputs": [
    {
     "data": {
      "text/plain": [
       "(39228, 14)"
      ]
     },
     "execution_count": 61,
     "metadata": {},
     "output_type": "execute_result"
    }
   ],
   "source": [
    "for c in df.columns:\n",
    "    df = df[df[c]!=-9999]\n",
    "df.shape"
   ]
  },
  {
   "cell_type": "code",
   "execution_count": 62,
   "metadata": {},
   "outputs": [
    {
     "data": {
      "text/plain": [
       "array(['bos', 'bal', 'chi', 'nyc', 'phi'], dtype=object)"
      ]
     },
     "execution_count": 62,
     "metadata": {},
     "output_type": "execute_result"
    }
   ],
   "source": [
    "df['city'].unique()"
   ]
  },
  {
   "cell_type": "markdown",
   "metadata": {
    "slideshow": null
   },
   "source": [
    "We will focus on using the temporal elements to predict the temperature.\n"
   ]
  },
  {
   "cell_type": "markdown",
   "metadata": {
    "slideshow": null
   },
   "source": [
    "## Per city model\n"
   ]
  },
  {
   "cell_type": "markdown",
   "metadata": {
    "slideshow": null
   },
   "source": [
    "It makes sense for each city to have it's own model.  Build a \"group-by\" estimator that takes an estimator factory as an argument and builds the resulting \"group-by\" estimator on each city.  That is, `fit` should create and fit a model per city, while the `predict` method should look up the corresponding model and perform a predict on each.  An estimator factory is something that returns an estimator each time it is called.  It could be a function or a class."
   ]
  },
  {
   "cell_type": "code",
   "execution_count": 343,
   "metadata": {
    "collapsed": true,
    "slideshow": null
   },
   "outputs": [],
   "source": [
    "from sklearn import base\n",
    "\n",
    "class GroupbyEstimator(base.BaseEstimator, base.RegressorMixin):\n",
    "    \n",
    "    def __init__(self, column, estimator_factory):\n",
    "        # column is the value to group by; estimator_factory can be\n",
    "        # called to produce estimatorsy\n",
    "        self.column = column\n",
    "        self.estimator_factory = estimator_factory\n",
    "        self.estimators = {}\n",
    "    \n",
    "    def fit(self, X, y):\n",
    "        # Create an estimator and fit it with the portion in each group\n",
    "        lis=df[self.column].unique()\n",
    "        for l in lis:\n",
    "            group = X[X[self.column]==l][['month','hour']]            \n",
    "            y_group = X[X[self.column]==l]['temp']\n",
    "            self.estimators[l] = self.estimator_factory().fit(group,y_group)  \n",
    "            \n",
    "        return self\n",
    "\n",
    "    def predict(self, X):\n",
    "        # Call the appropriate predict method for each row of X\n",
    "        predictions = []\n",
    "        for line in X:\n",
    "            inputs = line.split()\n",
    "            city = inputs[-1]\n",
    "            \n",
    "            #lis_0=[0]*12            \n",
    "            month = int(inputs[1])\n",
    "            hour = int(inputs[3])\n",
    "            #lis_0[month]=1\n",
    "            #lis_0.append(hour)\n",
    "            #point = np.array(lis_0).reshape(-1, 1)            \n",
    "            point=[[month,hour]]            \n",
    "            predictions.append(ests[city].predict(point))\n",
    "        return [int(p) for p in predictions]"
   ]
  },
  {
   "cell_type": "code",
   "execution_count": 214,
   "metadata": {
    "collapsed": true
   },
   "outputs": [],
   "source": [
    "from sklearn.linear_model import Ridge\n",
    "def est_factory():\n",
    "    return RandomForestRegressor() "
   ]
  },
  {
   "cell_type": "code",
   "execution_count": 221,
   "metadata": {
    "collapsed": true
   },
   "outputs": [],
   "source": [
    "from sklearn.model_selection import train_test_split\n",
    "X_train, X_test, y_train, y_test = train_test_split(df, df['temp'], test_size=0.2, random_state=42)"
   ]
  },
  {
   "cell_type": "code",
   "execution_count": 222,
   "metadata": {},
   "outputs": [
    {
     "data": {
      "text/plain": [
       "GroupbyEstimator(column='city',\n",
       "                 estimator_factory=RandomForestRegressor(bootstrap=True,\n",
       "                                                         ccp_alpha=0.0,\n",
       "                                                         criterion='mse',\n",
       "                                                         max_depth=None,\n",
       "                                                         max_features='auto',\n",
       "                                                         max_leaf_nodes=None,\n",
       "                                                         max_samples=None,\n",
       "                                                         min_impurity_decrease=0.0,\n",
       "                                                         min_impurity_split=None,\n",
       "                                                         min_samples_leaf=1,\n",
       "                                                         min_samples_split=2,\n",
       "                                                         min_weight_fraction_leaf=0.0,\n",
       "                                                         n_estimators=100,\n",
       "                                                         n_jobs=None,\n",
       "                                                         oob_score=False,\n",
       "                                                         random_state=None,\n",
       "                                                         verbose=0,\n",
       "                                                         warm_start=False))"
      ]
     },
     "execution_count": 222,
     "metadata": {},
     "output_type": "execute_result"
    }
   ],
   "source": [
    "GroupbyEstimator('city', est_factory()).fit(X_train, y_train)"
   ]
  },
  {
   "cell_type": "code",
   "execution_count": 219,
   "metadata": {},
   "outputs": [
    {
     "data": {
      "text/plain": [
       "0"
      ]
     },
     "execution_count": 219,
     "metadata": {},
     "output_type": "execute_result"
    }
   ],
   "source": [
    "txt='2000 01 01 00   -11   -72 10197   220    26     4     0     0 bos'\n",
    "txt.split()[-1]\n",
    "int(txt.split()[1])\n",
    "int(txt.split()[3])"
   ]
  },
  {
   "cell_type": "code",
   "execution_count": 220,
   "metadata": {},
   "outputs": [
    {
     "data": {
      "text/plain": [
       "[-4.840675510153518]"
      ]
     },
     "execution_count": 220,
     "metadata": {},
     "output_type": "execute_result"
    }
   ],
   "source": [
    "GroupbyEstimator('city', est_factory()).predict([txt])"
   ]
  },
  {
   "cell_type": "markdown",
   "metadata": {
    "slideshow": null
   },
   "source": [
    "## Month/hour model"
   ]
  },
  {
   "cell_type": "markdown",
   "metadata": {
    "slideshow": null
   },
   "source": [
    "Seasonal features are nice because they are relatively safe to extrapolate into the future. There are two ways to handle seasonality.  \n",
    "\n",
    "The simplest (and perhaps most robust) is to have a set of indicator variables. That is, make the assumption that the temperature at any given time is a function of only the month of the year and the hour of the day, and use that to predict the temperature value."
   ]
  },
  {
   "cell_type": "code",
   "execution_count": 344,
   "metadata": {
    "collapsed": true,
    "slideshow": null
   },
   "outputs": [],
   "source": [
    "from sklearn.ensemble import RandomForestRegressor\n",
    "def season_factory():\n",
    "    return RandomForestRegressor() # A single estimator or a pipeline\n",
    "\n",
    "season_model = GroupbyEstimator('city', season_factory()).fit(df, df['temp'])"
   ]
  },
  {
   "cell_type": "markdown",
   "metadata": {
    "slideshow": null
   },
   "source": [
    "## Fourier model"
   ]
  },
  {
   "cell_type": "markdown",
   "metadata": {
    "slideshow": null
   },
   "source": [
    "Since we know that temperature is roughly sinusoidal, we know that a reasonable model might be\n",
    "\n",
    "$$ y_t = y_0 \\sin\\left(2\\pi\\frac{t - t_0}{T}\\right) + \\epsilon $$\n",
    "\n",
    "where $k$ and $t_0$ are parameters to be learned and $T$ is one year for seasonal variation.  While this is linear in $y_0$, it is not linear in $t_0$. However, we know from Fourier analysis, that the above is\n",
    "equivalent to\n",
    "\n",
    "$$ y_t = A \\sin\\left(2\\pi\\frac{t}{T}\\right) + B \\cos\\left(2\\pi\\frac{t}{T}\\right) + \\epsilon $$\n",
    "\n",
    "which is linear in $A$ and $B$.\n",
    "\n",
    "Create a model containing sinusoidal terms on one or more time scales, and fit it to the data using a linear regression."
   ]
  },
  {
   "cell_type": "code",
   "execution_count": 360,
   "metadata": {},
   "outputs": [
    {
     "data": {
      "text/plain": [
       "array([2000, 2001, 2002, 2003, 2004, 2005, 2006, 2007, 2008, 2009, 2010,\n",
       "       2011])"
      ]
     },
     "execution_count": 360,
     "metadata": {},
     "output_type": "execute_result"
    }
   ],
   "source": [
    "df['year'].unique()"
   ]
  },
  {
   "cell_type": "code",
   "execution_count": 348,
   "metadata": {},
   "outputs": [
    {
     "data": {
      "text/html": [
       "<div>\n",
       "<style scoped>\n",
       "    .dataframe tbody tr th:only-of-type {\n",
       "        vertical-align: middle;\n",
       "    }\n",
       "\n",
       "    .dataframe tbody tr th {\n",
       "        vertical-align: top;\n",
       "    }\n",
       "\n",
       "    .dataframe thead th {\n",
       "        text-align: right;\n",
       "    }\n",
       "</style>\n",
       "<table border=\"1\" class=\"dataframe\">\n",
       "  <thead>\n",
       "    <tr style=\"text-align: right;\">\n",
       "      <th></th>\n",
       "      <th>year</th>\n",
       "      <th>month</th>\n",
       "      <th>day</th>\n",
       "      <th>hour</th>\n",
       "      <th>temp</th>\n",
       "      <th>dew_temp</th>\n",
       "      <th>pressure</th>\n",
       "      <th>wind_angle</th>\n",
       "      <th>wind_speed</th>\n",
       "      <th>sky_code</th>\n",
       "      <th>rain_hour</th>\n",
       "      <th>rain_6hour</th>\n",
       "      <th>city</th>\n",
       "      <th>julian</th>\n",
       "      <th>Month</th>\n",
       "    </tr>\n",
       "    <tr>\n",
       "      <th>date</th>\n",
       "      <th></th>\n",
       "      <th></th>\n",
       "      <th></th>\n",
       "      <th></th>\n",
       "      <th></th>\n",
       "      <th></th>\n",
       "      <th></th>\n",
       "      <th></th>\n",
       "      <th></th>\n",
       "      <th></th>\n",
       "      <th></th>\n",
       "      <th></th>\n",
       "      <th></th>\n",
       "      <th></th>\n",
       "      <th></th>\n",
       "    </tr>\n",
       "  </thead>\n",
       "  <tbody>\n",
       "    <tr>\n",
       "      <th>2000-01-01 00:00:00</th>\n",
       "      <td>2000</td>\n",
       "      <td>1</td>\n",
       "      <td>1</td>\n",
       "      <td>0</td>\n",
       "      <td>-11</td>\n",
       "      <td>-72</td>\n",
       "      <td>10197</td>\n",
       "      <td>220</td>\n",
       "      <td>26</td>\n",
       "      <td>4</td>\n",
       "      <td>0</td>\n",
       "      <td>0</td>\n",
       "      <td>bos</td>\n",
       "      <td>2451544.50</td>\n",
       "      <td>(0, 0)\\t1.0\\n  (1, 0)\\t1.0\\n  (2, 0)\\t1.0\\n ...</td>\n",
       "    </tr>\n",
       "    <tr>\n",
       "      <th>2000-01-01 06:00:00</th>\n",
       "      <td>2000</td>\n",
       "      <td>1</td>\n",
       "      <td>1</td>\n",
       "      <td>6</td>\n",
       "      <td>-28</td>\n",
       "      <td>-83</td>\n",
       "      <td>10219</td>\n",
       "      <td>230</td>\n",
       "      <td>26</td>\n",
       "      <td>0</td>\n",
       "      <td>0</td>\n",
       "      <td>0</td>\n",
       "      <td>bos</td>\n",
       "      <td>2451544.75</td>\n",
       "      <td>(0, 0)\\t1.0\\n  (1, 0)\\t1.0\\n  (2, 0)\\t1.0\\n ...</td>\n",
       "    </tr>\n",
       "    <tr>\n",
       "      <th>2000-01-01 12:00:00</th>\n",
       "      <td>2000</td>\n",
       "      <td>1</td>\n",
       "      <td>1</td>\n",
       "      <td>12</td>\n",
       "      <td>-22</td>\n",
       "      <td>-67</td>\n",
       "      <td>10244</td>\n",
       "      <td>240</td>\n",
       "      <td>26</td>\n",
       "      <td>4</td>\n",
       "      <td>0</td>\n",
       "      <td>0</td>\n",
       "      <td>bos</td>\n",
       "      <td>2451545.00</td>\n",
       "      <td>(0, 0)\\t1.0\\n  (1, 0)\\t1.0\\n  (2, 0)\\t1.0\\n ...</td>\n",
       "    </tr>\n",
       "    <tr>\n",
       "      <th>2000-01-01 18:00:00</th>\n",
       "      <td>2000</td>\n",
       "      <td>1</td>\n",
       "      <td>1</td>\n",
       "      <td>18</td>\n",
       "      <td>83</td>\n",
       "      <td>-22</td>\n",
       "      <td>10216</td>\n",
       "      <td>230</td>\n",
       "      <td>72</td>\n",
       "      <td>4</td>\n",
       "      <td>0</td>\n",
       "      <td>0</td>\n",
       "      <td>bos</td>\n",
       "      <td>2451545.25</td>\n",
       "      <td>(0, 0)\\t1.0\\n  (1, 0)\\t1.0\\n  (2, 0)\\t1.0\\n ...</td>\n",
       "    </tr>\n",
       "    <tr>\n",
       "      <th>2000-01-02 00:00:00</th>\n",
       "      <td>2000</td>\n",
       "      <td>1</td>\n",
       "      <td>2</td>\n",
       "      <td>0</td>\n",
       "      <td>56</td>\n",
       "      <td>-11</td>\n",
       "      <td>10228</td>\n",
       "      <td>220</td>\n",
       "      <td>62</td>\n",
       "      <td>2</td>\n",
       "      <td>0</td>\n",
       "      <td>0</td>\n",
       "      <td>bos</td>\n",
       "      <td>2451545.50</td>\n",
       "      <td>(0, 0)\\t1.0\\n  (1, 0)\\t1.0\\n  (2, 0)\\t1.0\\n ...</td>\n",
       "    </tr>\n",
       "  </tbody>\n",
       "</table>\n",
       "</div>"
      ],
      "text/plain": [
       "                     year  month  day  hour  temp  dew_temp  pressure  \\\n",
       "date                                                                    \n",
       "2000-01-01 00:00:00  2000      1    1     0   -11       -72     10197   \n",
       "2000-01-01 06:00:00  2000      1    1     6   -28       -83     10219   \n",
       "2000-01-01 12:00:00  2000      1    1    12   -22       -67     10244   \n",
       "2000-01-01 18:00:00  2000      1    1    18    83       -22     10216   \n",
       "2000-01-02 00:00:00  2000      1    2     0    56       -11     10228   \n",
       "\n",
       "                     wind_angle  wind_speed  sky_code  rain_hour  rain_6hour  \\\n",
       "date                                                                           \n",
       "2000-01-01 00:00:00         220          26         4          0           0   \n",
       "2000-01-01 06:00:00         230          26         0          0           0   \n",
       "2000-01-01 12:00:00         240          26         4          0           0   \n",
       "2000-01-01 18:00:00         230          72         4          0           0   \n",
       "2000-01-02 00:00:00         220          62         2          0           0   \n",
       "\n",
       "                    city      julian  \\\n",
       "date                                   \n",
       "2000-01-01 00:00:00  bos  2451544.50   \n",
       "2000-01-01 06:00:00  bos  2451544.75   \n",
       "2000-01-01 12:00:00  bos  2451545.00   \n",
       "2000-01-01 18:00:00  bos  2451545.25   \n",
       "2000-01-02 00:00:00  bos  2451545.50   \n",
       "\n",
       "                                                                 Month  \n",
       "date                                                                    \n",
       "2000-01-01 00:00:00    (0, 0)\\t1.0\\n  (1, 0)\\t1.0\\n  (2, 0)\\t1.0\\n ...  \n",
       "2000-01-01 06:00:00    (0, 0)\\t1.0\\n  (1, 0)\\t1.0\\n  (2, 0)\\t1.0\\n ...  \n",
       "2000-01-01 12:00:00    (0, 0)\\t1.0\\n  (1, 0)\\t1.0\\n  (2, 0)\\t1.0\\n ...  \n",
       "2000-01-01 18:00:00    (0, 0)\\t1.0\\n  (1, 0)\\t1.0\\n  (2, 0)\\t1.0\\n ...  \n",
       "2000-01-02 00:00:00    (0, 0)\\t1.0\\n  (1, 0)\\t1.0\\n  (2, 0)\\t1.0\\n ...  "
      ]
     },
     "execution_count": 348,
     "metadata": {},
     "output_type": "execute_result"
    }
   ],
   "source": [
    "df.head()"
   ]
  },
  {
   "cell_type": "code",
   "execution_count": 350,
   "metadata": {},
   "outputs": [
    {
     "data": {
      "text/plain": [
       "[<matplotlib.lines.Line2D at 0x7f799941a210>]"
      ]
     },
     "execution_count": 350,
     "metadata": {},
     "output_type": "execute_result"
    },
    {
     "data": {
      "image/png": "[encoded data removed]",
      "text/plain": [
       "<Figure size 864x576 with 1 Axes>"
      ]
     },
     "metadata": {},
     "output_type": "display_data"
    }
   ],
   "source": [
    "import scipy.fft\n",
    "import matplotlib.pyplot as plt\n",
    "\n",
    "fft = scipy.fft.fft((df.temp - df.temp.mean()).values)\n",
    "plt.plot(np.abs(fft))"
   ]
  },
  {
   "cell_type": "code",
   "execution_count": 352,
   "metadata": {
    "collapsed": true
   },
   "outputs": [],
   "source": [
    "df['const'] = 1\n",
    "df['sin(year)'] = np.sin(df['julian'] / 365.25 * 2 * np.pi)\n",
    "df['cos(year)'] = np.cos(df['julian'] / 365.25 * 2 * np.pi)\n",
    "df['sin(6mo)'] = np.sin(df['julian'] / (365.25 / 2) * 2 * np.pi)\n",
    "df['cos(6mo)'] = np.cos(df['julian'] / (365.25 / 2) * 2 * np.pi)\n",
    "df['sin(day)'] = np.sin(df.index.hour / 24.0 * 2* np.pi)\n",
    "df['cos(day)'] = np.cos(df.index.hour / 24.0 * 2* np.pi)"
   ]
  },
  {
   "cell_type": "code",
   "execution_count": 354,
   "metadata": {},
   "outputs": [
    {
     "data": {
      "text/html": [
       "<div>\n",
       "<style scoped>\n",
       "    .dataframe tbody tr th:only-of-type {\n",
       "        vertical-align: middle;\n",
       "    }\n",
       "\n",
       "    .dataframe tbody tr th {\n",
       "        vertical-align: top;\n",
       "    }\n",
       "\n",
       "    .dataframe thead th {\n",
       "        text-align: right;\n",
       "    }\n",
       "</style>\n",
       "<table border=\"1\" class=\"dataframe\">\n",
       "  <thead>\n",
       "    <tr style=\"text-align: right;\">\n",
       "      <th></th>\n",
       "      <th>year</th>\n",
       "      <th>month</th>\n",
       "      <th>day</th>\n",
       "      <th>hour</th>\n",
       "      <th>temp</th>\n",
       "      <th>dew_temp</th>\n",
       "      <th>pressure</th>\n",
       "      <th>wind_angle</th>\n",
       "      <th>wind_speed</th>\n",
       "      <th>sky_code</th>\n",
       "      <th>...</th>\n",
       "      <th>city</th>\n",
       "      <th>julian</th>\n",
       "      <th>Month</th>\n",
       "      <th>const</th>\n",
       "      <th>sin(year)</th>\n",
       "      <th>cos(year)</th>\n",
       "      <th>sin(6mo)</th>\n",
       "      <th>cos(6mo)</th>\n",
       "      <th>sin(day)</th>\n",
       "      <th>cos(day)</th>\n",
       "    </tr>\n",
       "    <tr>\n",
       "      <th>date</th>\n",
       "      <th></th>\n",
       "      <th></th>\n",
       "      <th></th>\n",
       "      <th></th>\n",
       "      <th></th>\n",
       "      <th></th>\n",
       "      <th></th>\n",
       "      <th></th>\n",
       "      <th></th>\n",
       "      <th></th>\n",
       "      <th></th>\n",
       "      <th></th>\n",
       "      <th></th>\n",
       "      <th></th>\n",
       "      <th></th>\n",
       "      <th></th>\n",
       "      <th></th>\n",
       "      <th></th>\n",
       "      <th></th>\n",
       "      <th></th>\n",
       "      <th></th>\n",
       "    </tr>\n",
       "  </thead>\n",
       "  <tbody>\n",
       "    <tr>\n",
       "      <th>2000-01-01 00:00:00</th>\n",
       "      <td>2000</td>\n",
       "      <td>1</td>\n",
       "      <td>1</td>\n",
       "      <td>0</td>\n",
       "      <td>-11</td>\n",
       "      <td>-72</td>\n",
       "      <td>10197</td>\n",
       "      <td>220</td>\n",
       "      <td>26</td>\n",
       "      <td>4</td>\n",
       "      <td>...</td>\n",
       "      <td>bos</td>\n",
       "      <td>2451544.50</td>\n",
       "      <td>(0, 0)\\t1.0\\n  (1, 0)\\t1.0\\n  (2, 0)\\t1.0\\n ...</td>\n",
       "      <td>1</td>\n",
       "      <td>-0.230151</td>\n",
       "      <td>0.973155</td>\n",
       "      <td>-0.447945</td>\n",
       "      <td>0.894061</td>\n",
       "      <td>0.000000e+00</td>\n",
       "      <td>1.000000e+00</td>\n",
       "    </tr>\n",
       "    <tr>\n",
       "      <th>2000-01-01 06:00:00</th>\n",
       "      <td>2000</td>\n",
       "      <td>1</td>\n",
       "      <td>1</td>\n",
       "      <td>6</td>\n",
       "      <td>-28</td>\n",
       "      <td>-83</td>\n",
       "      <td>10219</td>\n",
       "      <td>230</td>\n",
       "      <td>26</td>\n",
       "      <td>0</td>\n",
       "      <td>...</td>\n",
       "      <td>bos</td>\n",
       "      <td>2451544.75</td>\n",
       "      <td>(0, 0)\\t1.0\\n  (1, 0)\\t1.0\\n  (2, 0)\\t1.0\\n ...</td>\n",
       "      <td>1</td>\n",
       "      <td>-0.225964</td>\n",
       "      <td>0.974136</td>\n",
       "      <td>-0.440238</td>\n",
       "      <td>0.897881</td>\n",
       "      <td>1.000000e+00</td>\n",
       "      <td>6.123234e-17</td>\n",
       "    </tr>\n",
       "    <tr>\n",
       "      <th>2000-01-01 12:00:00</th>\n",
       "      <td>2000</td>\n",
       "      <td>1</td>\n",
       "      <td>1</td>\n",
       "      <td>12</td>\n",
       "      <td>-22</td>\n",
       "      <td>-67</td>\n",
       "      <td>10244</td>\n",
       "      <td>240</td>\n",
       "      <td>26</td>\n",
       "      <td>4</td>\n",
       "      <td>...</td>\n",
       "      <td>bos</td>\n",
       "      <td>2451545.00</td>\n",
       "      <td>(0, 0)\\t1.0\\n  (1, 0)\\t1.0\\n  (2, 0)\\t1.0\\n ...</td>\n",
       "      <td>1</td>\n",
       "      <td>-0.221772</td>\n",
       "      <td>0.975099</td>\n",
       "      <td>-0.432499</td>\n",
       "      <td>0.901634</td>\n",
       "      <td>1.224647e-16</td>\n",
       "      <td>-1.000000e+00</td>\n",
       "    </tr>\n",
       "    <tr>\n",
       "      <th>2000-01-01 18:00:00</th>\n",
       "      <td>2000</td>\n",
       "      <td>1</td>\n",
       "      <td>1</td>\n",
       "      <td>18</td>\n",
       "      <td>83</td>\n",
       "      <td>-22</td>\n",
       "      <td>10216</td>\n",
       "      <td>230</td>\n",
       "      <td>72</td>\n",
       "      <td>4</td>\n",
       "      <td>...</td>\n",
       "      <td>bos</td>\n",
       "      <td>2451545.25</td>\n",
       "      <td>(0, 0)\\t1.0\\n  (1, 0)\\t1.0\\n  (2, 0)\\t1.0\\n ...</td>\n",
       "      <td>1</td>\n",
       "      <td>-0.217577</td>\n",
       "      <td>0.976043</td>\n",
       "      <td>-0.424728</td>\n",
       "      <td>0.905321</td>\n",
       "      <td>-1.000000e+00</td>\n",
       "      <td>-1.836970e-16</td>\n",
       "    </tr>\n",
       "    <tr>\n",
       "      <th>2000-01-02 00:00:00</th>\n",
       "      <td>2000</td>\n",
       "      <td>1</td>\n",
       "      <td>2</td>\n",
       "      <td>0</td>\n",
       "      <td>56</td>\n",
       "      <td>-11</td>\n",
       "      <td>10228</td>\n",
       "      <td>220</td>\n",
       "      <td>62</td>\n",
       "      <td>2</td>\n",
       "      <td>...</td>\n",
       "      <td>bos</td>\n",
       "      <td>2451545.50</td>\n",
       "      <td>(0, 0)\\t1.0\\n  (1, 0)\\t1.0\\n  (2, 0)\\t1.0\\n ...</td>\n",
       "      <td>1</td>\n",
       "      <td>-0.213377</td>\n",
       "      <td>0.976970</td>\n",
       "      <td>-0.416926</td>\n",
       "      <td>0.908940</td>\n",
       "      <td>0.000000e+00</td>\n",
       "      <td>1.000000e+00</td>\n",
       "    </tr>\n",
       "  </tbody>\n",
       "</table>\n",
       "<p>5 rows × 22 columns</p>\n",
       "</div>"
      ],
      "text/plain": [
       "                     year  month  day  hour  temp  dew_temp  pressure  \\\n",
       "date                                                                    \n",
       "2000-01-01 00:00:00  2000      1    1     0   -11       -72     10197   \n",
       "2000-01-01 06:00:00  2000      1    1     6   -28       -83     10219   \n",
       "2000-01-01 12:00:00  2000      1    1    12   -22       -67     10244   \n",
       "2000-01-01 18:00:00  2000      1    1    18    83       -22     10216   \n",
       "2000-01-02 00:00:00  2000      1    2     0    56       -11     10228   \n",
       "\n",
       "                     wind_angle  wind_speed  sky_code  ...  city      julian  \\\n",
       "date                                                   ...                     \n",
       "2000-01-01 00:00:00         220          26         4  ...   bos  2451544.50   \n",
       "2000-01-01 06:00:00         230          26         0  ...   bos  2451544.75   \n",
       "2000-01-01 12:00:00         240          26         4  ...   bos  2451545.00   \n",
       "2000-01-01 18:00:00         230          72         4  ...   bos  2451545.25   \n",
       "2000-01-02 00:00:00         220          62         2  ...   bos  2451545.50   \n",
       "\n",
       "                                                                 Month  const  \\\n",
       "date                                                                            \n",
       "2000-01-01 00:00:00    (0, 0)\\t1.0\\n  (1, 0)\\t1.0\\n  (2, 0)\\t1.0\\n ...      1   \n",
       "2000-01-01 06:00:00    (0, 0)\\t1.0\\n  (1, 0)\\t1.0\\n  (2, 0)\\t1.0\\n ...      1   \n",
       "2000-01-01 12:00:00    (0, 0)\\t1.0\\n  (1, 0)\\t1.0\\n  (2, 0)\\t1.0\\n ...      1   \n",
       "2000-01-01 18:00:00    (0, 0)\\t1.0\\n  (1, 0)\\t1.0\\n  (2, 0)\\t1.0\\n ...      1   \n",
       "2000-01-02 00:00:00    (0, 0)\\t1.0\\n  (1, 0)\\t1.0\\n  (2, 0)\\t1.0\\n ...      1   \n",
       "\n",
       "                    sin(year)  cos(year)  sin(6mo)  cos(6mo)      sin(day)  \\\n",
       "date                                                                         \n",
       "2000-01-01 00:00:00 -0.230151   0.973155 -0.447945  0.894061  0.000000e+00   \n",
       "2000-01-01 06:00:00 -0.225964   0.974136 -0.440238  0.897881  1.000000e+00   \n",
       "2000-01-01 12:00:00 -0.221772   0.975099 -0.432499  0.901634  1.224647e-16   \n",
       "2000-01-01 18:00:00 -0.217577   0.976043 -0.424728  0.905321 -1.000000e+00   \n",
       "2000-01-02 00:00:00 -0.213377   0.976970 -0.416926  0.908940  0.000000e+00   \n",
       "\n",
       "                         cos(day)  \n",
       "date                               \n",
       "2000-01-01 00:00:00  1.000000e+00  \n",
       "2000-01-01 06:00:00  6.123234e-17  \n",
       "2000-01-01 12:00:00 -1.000000e+00  \n",
       "2000-01-01 18:00:00 -1.836970e-16  \n",
       "2000-01-02 00:00:00  1.000000e+00  \n",
       "\n",
       "[5 rows x 22 columns]"
      ]
     },
     "execution_count": 354,
     "metadata": {},
     "output_type": "execute_result"
    }
   ],
   "source": [
    "bos=df[df['city']=='bos']\n",
    "bos.head()"
   ]
  },
  {
   "cell_type": "code",
   "execution_count": 375,
   "metadata": {},
   "outputs": [
    {
     "data": {
      "text/plain": [
       "<matplotlib.axes._subplots.AxesSubplot at 0x7f7998df0dd0>"
      ]
     },
     "execution_count": 375,
     "metadata": {},
     "output_type": "execute_result"
    },
    {
     "data": {
      "image/png": "[encoded data removed]",
      "text/plain": [
       "<Figure size 864x576 with 1 Axes>"
      ]
     },
     "metadata": {},
     "output_type": "display_data"
    }
   ],
   "source": [
    "cut_year = 2008\n",
    "\n",
    "train = bos[bos.index.year < cut_year].dropna(how='any')\n",
    "test  = bos[bos.index.year >= cut_year].dropna(how='any')\n",
    "regress = LinearRegression().fit( \n",
    "        X=train[['sin(year)', 'cos(year)', 'sin(6mo)', 'cos(6mo)', 'sin(day)', 'cos(day)']], \n",
    "        y=train['temp'])\n",
    "\n",
    "test['Predicted_Value'] = regress.predict(X=test[['sin(year)', 'cos(year)', 'sin(6mo)', 'cos(6mo)', 'sin(day)', 'cos(day)']] )\n",
    "\n",
    "(test['Goal'] - test['Predicted_Value']).plot()"
   ]
  },
  {
   "cell_type": "code",
   "execution_count": 367,
   "metadata": {
    "collapsed": true
   },
   "outputs": [],
   "source": [
    "txt='2000 01 01 00   -11   -72 10197   220    26     4     0     0 bos'\n",
    "list_vals=['2000 01 01 00   -11   -72 10197   220    26     4     0     0 bos\\n','2000 01 01 00   -11   -72 10197   220    26     4     0     0 bos\\n','2000 01 01 00   -11   -72 10197   220    26     4     0     0 bos\\n']\n",
    "def load_stream(stream):\n",
    "    return pd.read_csv(stream, sep=' +', engine='python',\n",
    "                         names=['year', 'month', 'day', 'hour', 'temp',\n",
    "                                'dew_temp', 'pressure', 'wind_angle', \n",
    "                                'wind_speed', 'sky_code', 'rain_hour',\n",
    "                                'rain_6hour', 'city'])"
   ]
  },
  {
   "cell_type": "code",
   "execution_count": 368,
   "metadata": {
    "collapsed": true
   },
   "outputs": [],
   "source": [
    "from io import StringIO"
   ]
  },
  {
   "cell_type": "code",
   "execution_count": 376,
   "metadata": {},
   "outputs": [
    {
     "data": {
      "text/html": [
       "<div>\n",
       "<style scoped>\n",
       "    .dataframe tbody tr th:only-of-type {\n",
       "        vertical-align: middle;\n",
       "    }\n",
       "\n",
       "    .dataframe tbody tr th {\n",
       "        vertical-align: top;\n",
       "    }\n",
       "\n",
       "    .dataframe thead th {\n",
       "        text-align: right;\n",
       "    }\n",
       "</style>\n",
       "<table border=\"1\" class=\"dataframe\">\n",
       "  <thead>\n",
       "    <tr style=\"text-align: right;\">\n",
       "      <th></th>\n",
       "      <th>year</th>\n",
       "      <th>month</th>\n",
       "      <th>day</th>\n",
       "      <th>hour</th>\n",
       "      <th>temp</th>\n",
       "      <th>dew_temp</th>\n",
       "      <th>pressure</th>\n",
       "      <th>wind_angle</th>\n",
       "      <th>wind_speed</th>\n",
       "      <th>sky_code</th>\n",
       "      <th>rain_hour</th>\n",
       "      <th>rain_6hour</th>\n",
       "      <th>city</th>\n",
       "    </tr>\n",
       "  </thead>\n",
       "  <tbody>\n",
       "    <tr>\n",
       "      <th>0</th>\n",
       "      <td>2000</td>\n",
       "      <td>1</td>\n",
       "      <td>1</td>\n",
       "      <td>0</td>\n",
       "      <td>-11</td>\n",
       "      <td>-72</td>\n",
       "      <td>10197</td>\n",
       "      <td>220</td>\n",
       "      <td>26</td>\n",
       "      <td>4</td>\n",
       "      <td>0</td>\n",
       "      <td>0</td>\n",
       "      <td>bos</td>\n",
       "    </tr>\n",
       "    <tr>\n",
       "      <th>1</th>\n",
       "      <td>2000</td>\n",
       "      <td>1</td>\n",
       "      <td>1</td>\n",
       "      <td>0</td>\n",
       "      <td>-11</td>\n",
       "      <td>-72</td>\n",
       "      <td>10197</td>\n",
       "      <td>220</td>\n",
       "      <td>26</td>\n",
       "      <td>4</td>\n",
       "      <td>0</td>\n",
       "      <td>0</td>\n",
       "      <td>bos</td>\n",
       "    </tr>\n",
       "    <tr>\n",
       "      <th>2</th>\n",
       "      <td>2000</td>\n",
       "      <td>1</td>\n",
       "      <td>1</td>\n",
       "      <td>0</td>\n",
       "      <td>-11</td>\n",
       "      <td>-72</td>\n",
       "      <td>10197</td>\n",
       "      <td>220</td>\n",
       "      <td>26</td>\n",
       "      <td>4</td>\n",
       "      <td>0</td>\n",
       "      <td>0</td>\n",
       "      <td>bos</td>\n",
       "    </tr>\n",
       "  </tbody>\n",
       "</table>\n",
       "</div>"
      ],
      "text/plain": [
       "   year  month  day  hour  temp  dew_temp  pressure  wind_angle  wind_speed  \\\n",
       "0  2000      1    1     0   -11       -72     10197         220          26   \n",
       "1  2000      1    1     0   -11       -72     10197         220          26   \n",
       "2  2000      1    1     0   -11       -72     10197         220          26   \n",
       "\n",
       "   sky_code  rain_hour  rain_6hour city  \n",
       "0         4          0           0  bos  \n",
       "1         4          0           0  bos  \n",
       "2         4          0           0  bos  "
      ]
     },
     "execution_count": 376,
     "metadata": {},
     "output_type": "execute_result"
    }
   ],
   "source": [
    "row=pd.read_csv(StringIO('\\n'.join(list_vals)), delim_whitespace=True,names=['year', 'month', 'day', 'hour', 'temp',\n",
    "                                'dew_temp', 'pressure', 'wind_angle', \n",
    "                                'wind_speed', 'sky_code', 'rain_hour',\n",
    "                                'rain_6hour', 'city'])\n",
    "row"
   ]
  },
  {
   "cell_type": "code",
   "execution_count": 397,
   "metadata": {},
   "outputs": [
    {
     "name": "stdout",
     "output_type": "stream",
     "text": [
      "bos\n",
      "[[10197 220 26 4 0]]\n",
      "bos\n",
      "[[10197 220 26 4 0]]\n",
      "bos\n",
      "[[10197 220 26 4 0]]\n"
     ]
    }
   ],
   "source": [
    "for index,r in row.iterrows():\n",
    "    d=r['city']\n",
    "    da=r[['pressure', 'wind_angle','wind_speed', 'sky_code', 'rain_hour']].values.reshape(1,-1)\n",
    "    print(d)\n",
    "    print(da)"
   ]
  },
  {
   "cell_type": "code",
   "execution_count": 371,
   "metadata": {
    "collapsed": true
   },
   "outputs": [],
   "source": [
    "def load_string(lis):\n",
    "    return pd.read_csv(StringIO('\\n'.join(list_vals)), delim_whitespace=True,names=['year', 'month', 'day', 'hour', 'temp',\n",
    "                                'dew_temp', 'pressure', 'wind_angle', \n",
    "                                'wind_speed', 'sky_code', 'rain_hour',\n",
    "                                'rain_6hour', 'city'])"
   ]
  },
  {
   "cell_type": "code",
   "execution_count": 381,
   "metadata": {},
   "outputs": [
    {
     "data": {
      "text/plain": [
       "<function __main__.<lambda>(x)>"
      ]
     },
     "execution_count": 381,
     "metadata": {},
     "output_type": "execute_result"
    }
   ],
   "source": [
    "lambda x: load_string(x)"
   ]
  },
  {
   "cell_type": "code",
   "execution_count": 458,
   "metadata": {
    "collapsed": true
   },
   "outputs": [],
   "source": [
    "def load_string(lis):\n",
    "    return pd.read_csv(StringIO('\\n'.join(lis)), delim_whitespace=True,names=['year', 'month', 'day', 'hour', 'temp',\n",
    "                            'dew_temp', 'pressure', 'wind_angle', \n",
    "                            'wind_speed', 'sky_code', 'rain_hour',\n",
    "                            'rain_6hour', 'city'])\n",
    "\n",
    "class GroupbyEstimator(base.BaseEstimator, base.RegressorMixin):\n",
    "    \n",
    "    def __init__(self, column, estimator_factory):\n",
    "        # column is the value to group by; estimator_factory can be\n",
    "        # called to produce estimatorsy\n",
    "        self.column = column\n",
    "        self.estimator_factory = estimator_factory\n",
    "        self.estimators = {}\n",
    "    \n",
    "    def fit(self, X, y):\n",
    "        # Create an estimator and fit it with the portion in each group\n",
    "        lis=X[self.column].unique()\n",
    "        X['julian'] = X.index.to_julian_date()\n",
    "        X['sin(year)'] = np.sin(X['julian'] / 365.25 * 2 * np.pi)\n",
    "        X['cos(year)'] = np.cos(X['julian'] / 365.25 * 2 * np.pi)\n",
    "        X['sin(6mo)'] = np.sin(X['julian'] / (365.25 / 2) * 2 * np.pi)\n",
    "        X['cos(6mo)'] = np.cos(X['julian'] / (365.25 / 2) * 2 * np.pi)\n",
    "        X['sin(day)'] = np.sin(X.index.hour / 24.0 * 2* np.pi)\n",
    "        X['cos(day)'] = np.cos(X.index.hour / 24.0 * 2* np.pi)\n",
    "        \n",
    "        for l in lis:\n",
    "            estimator[l] = self.estimator_factory\n",
    "            group = X[X[self.column]==l][['sin(year)', 'cos(year)', 'sin(6mo)', 'cos(6mo)', 'sin(day)', 'cos(day)']]\n",
    "            \n",
    "            y_group = X[X[self.column]==l]['temp']\n",
    "            self.estimators[l]=self.estimator_factory().fit(group,y_group) \n",
    "            \n",
    "        return self\n",
    "\n",
    "    def predict(self, X):\n",
    "        # Call the appropriate predict method for each row of X\n",
    "        trans=load_string(X)\n",
    "        trans['date']=pd.to_datetime(trans[[\"year\", \"month\", \"day\",'hour']])\n",
    "        trans = trans.set_index('date')\n",
    "        trans['julian'] = trans.index.to_julian_date()\n",
    "        trans['sin(year)'] = np.sin(trans['julian'] / 365.25 * 2 * np.pi)\n",
    "        trans['cos(year)'] = np.cos(trans['julian'] / 365.25 * 2 * np.pi)\n",
    "        trans['sin(6mo)'] = np.sin(trans['julian'] / (365.25 / 2) * 2 * np.pi)\n",
    "        trans['cos(6mo)'] = np.cos(trans['julian'] / (365.25 / 2) * 2 * np.pi)\n",
    "        trans['sin(day)'] = np.sin(trans.index.hour / 24.0 * 2* np.pi)\n",
    "        trans['cos(day)'] = np.cos(trans.index.hour / 24.0 * 2* np.pi)\n",
    "        \n",
    "        predictions=[]\n",
    "        for index, row in trans.iterrows():\n",
    "            city = row[self.column]\n",
    "            data = [[row['sin(year)'],row['cos(year)'],row[\"sin(6mo)\"],row['cos(6mo)'],row['sin(day)'],row['cos(day)']]]\n",
    "            #data = row[['sin(year)', 'cos(year)', 'sin(6mo)', 'cos(6mo)', 'sin(day)', 'cos(day)']].values.reshape(1,-1)\n",
    "            predictions.append(estimator[city].predict(data))\n",
    "\n",
    "        return [int(p) for p in predictions]"
   ]
  },
  {
   "cell_type": "code",
   "execution_count": 459,
   "metadata": {
    "collapsed": true
   },
   "outputs": [],
   "source": [
    "def fourier_factory():\n",
    "    return LinearRegression() # A single estimator or a pipeline\n",
    "\n",
    "fourier_model = GroupbyEstimator('city', fourier_factory()).fit(df, df['temp'])"
   ]
  },
  {
   "cell_type": "code",
   "execution_count": 460,
   "metadata": {},
   "outputs": [
    {
     "data": {
      "text/plain": [
       "<bound method GroupbyEstimator.predict of GroupbyEstimator(column='city',\n",
       "                 estimator_factory=LinearRegression(copy_X=True,\n",
       "                                                    fit_intercept=True,\n",
       "                                                    n_jobs=None,\n",
       "                                                    normalize=False))>"
      ]
     },
     "execution_count": 460,
     "metadata": {},
     "output_type": "execute_result"
    }
   ],
   "source": [
    "fourier_model.predict"
   ]
  },
  {
   "cell_type": "code",
   "execution_count": 463,
   "metadata": {},
   "outputs": [
    {
     "data": {
      "text/plain": [
       "array([-43.37010386])"
      ]
     },
     "execution_count": 463,
     "metadata": {},
     "output_type": "execute_result"
    }
   ],
   "source": [
    "estimator['bos'].predict([[1,1,1,1,1,1]])"
   ]
  }
 ],
 "metadata": {
  "kernelspec": {
   "display_name": "Python 3",
   "language": "python",
   "name": "python3"
  },
  "language_info": {
   "codemirror_mode": {
    "name": "ipython",
    "version": 3
   },
   "file_extension": ".py",
   "mimetype": "text/x-python",
   "name": "python",
   "nbconvert_exporter": "python",
   "pygments_lexer": "ipython3",
   "version": "3.6.6"
  },
  "nbclean": true
 },
 "nbformat": 4,
 "nbformat_minor": 4
}
